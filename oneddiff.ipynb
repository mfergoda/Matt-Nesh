{
 "cells": [
  {
   "cell_type": "code",
   "execution_count": 527,
   "metadata": {
    "collapsed": true
   },
   "outputs": [],
   "source": [
    "import numpy as np\n",
    "import random as rn"
   ]
  },
  {
   "cell_type": "code",
   "execution_count": 528,
   "metadata": {
    "collapsed": false
   },
   "outputs": [
    {
     "name": "stdout",
     "output_type": "stream",
     "text": [
      "[ 0.     0.125  0.25   0.375  0.5    0.625  0.75   0.875  1.   ]\n"
     ]
    }
   ],
   "source": [
    "x = np.linspace(0,1.0,9); print x"
   ]
  },
  {
   "cell_type": "code",
   "execution_count": 529,
   "metadata": {
    "collapsed": false
   },
   "outputs": [
    {
     "name": "stdout",
     "output_type": "stream",
     "text": [
      "0.125\n"
     ]
    }
   ],
   "source": [
    "dx = x[1]-x[0]; print dx"
   ]
  },
  {
   "cell_type": "code",
   "execution_count": 530,
   "metadata": {
    "collapsed": true
   },
   "outputs": [],
   "source": [
    "D = 1.0"
   ]
  },
  {
   "cell_type": "code",
   "execution_count": 531,
   "metadata": {
    "collapsed": false
   },
   "outputs": [
    {
     "name": "stdout",
     "output_type": "stream",
     "text": [
      "0.00078125\n",
      "0.0078125\n"
     ]
    }
   ],
   "source": [
    "dt = dx**2/2/D / 10; print dt\n",
    "nt = 10 # Number of time steps\n",
    "t = dt*nt; print t"
   ]
  },
  {
   "cell_type": "code",
   "execution_count": 532,
   "metadata": {
    "collapsed": false
   },
   "outputs": [
    {
     "name": "stdout",
     "output_type": "stream",
     "text": [
      "0.05\n"
     ]
    }
   ],
   "source": [
    "C = (dt * D) / (dx**2); print C # For constants in \"propagate\" function "
   ]
  },
  {
   "cell_type": "code",
   "execution_count": 533,
   "metadata": {
    "collapsed": false
   },
   "outputs": [
    {
     "name": "stdout",
     "output_type": "stream",
     "text": [
      "[[  1.21214208e-01   7.98258985e-01   8.69544800e-01   9.90221680e-01\n",
      "    8.90400334e-01   3.41964119e-01   4.52132855e-01   5.72676171e-01\n",
      "    7.60297761e-01]\n",
      " [  9.10443865e-01   4.59723045e-02   2.83065143e-01   3.76158975e-01\n",
      "    2.70920501e-02   4.98414337e-01   9.26393837e-01   1.60690409e-01\n",
      "    6.86408774e-01]\n",
      " [  2.58337301e-01   7.79928918e-01   1.77162378e-04   8.28651701e-01\n",
      "    5.29509591e-01   4.66170106e-01   4.85465028e-01   7.97405536e-01\n",
      "    6.00841721e-01]\n",
      " [  8.58106503e-01   7.19428026e-01   4.61192431e-01   4.79929787e-01\n",
      "    7.14725406e-01   4.56556981e-01   3.69529934e-01   5.19540523e-01\n",
      "    2.01002662e-01]\n",
      " [  5.07196497e-01   7.67992533e-01   4.99767462e-01   9.86216267e-01\n",
      "    8.75355054e-01   8.68318234e-01   1.33392746e-01   1.76702122e-01\n",
      "    8.71298898e-02]\n",
      " [  5.37795465e-03   7.51388200e-01   5.63539938e-01   5.63583296e-01\n",
      "    4.90749189e-01   8.79111843e-01   5.88920568e-01   6.70750877e-01\n",
      "    9.93777730e-01]\n",
      " [  3.10227858e-01   1.12905175e-01   8.82355276e-02   1.12847057e-01\n",
      "    6.00749326e-01   3.23936292e-01   9.81036514e-01   6.56336742e-01\n",
      "    2.65701065e-01]\n",
      " [  7.06308914e-01   2.52264584e-01   2.29382175e-01   1.79955313e-01\n",
      "    2.41550199e-01   2.07502869e-01   6.97420095e-01   3.15373912e-01\n",
      "    1.69079224e-02]\n",
      " [  5.04244069e-01   9.52629056e-01   3.33738525e-01   7.34377592e-01\n",
      "    6.27099770e-01   2.23977043e-01   2.39218681e-01   4.43538499e-01\n",
      "    8.96002686e-01]\n",
      " [  3.74699834e-02   6.64625369e-01   5.31167877e-01   2.62973063e-01\n",
      "    2.98450796e-01   3.29963963e-01   8.87616603e-01   8.65981311e-02\n",
      "    9.62179513e-01]]\n"
     ]
    }
   ],
   "source": [
    "# Starting f(t,x) as 2-D array of random numbers; pseudo: f[time][x]\n",
    "\n",
    "f = np.array([[rn.random() for i in range(len(x))] for j in range(int(t/dt))]); print f;"
   ]
  },
  {
   "cell_type": "code",
   "execution_count": 534,
   "metadata": {
    "collapsed": false
   },
   "outputs": [
    {
     "name": "stdout",
     "output_type": "stream",
     "text": [
      "[[  1.98807454e-01   7.60228341e-01   8.62807934e-01   1.00540531e+00\n",
      "    8.90202105e-01   3.68271092e-01   3.84199300e-01   6.56506164e-01\n",
      "    6.70283216e-01]\n",
      " [  9.10443865e-01   4.59723045e-02   2.83065143e-01   3.76158975e-01\n",
      "    2.70920501e-02   4.98414337e-01   9.26393837e-01   1.60690409e-01\n",
      "    6.86408774e-01]\n",
      " [  2.58337301e-01   7.79928918e-01   1.77162378e-04   8.28651701e-01\n",
      "    5.29509591e-01   4.66170106e-01   4.85465028e-01   7.97405536e-01\n",
      "    6.00841721e-01]\n",
      " [  8.58106503e-01   7.19428026e-01   4.61192431e-01   4.79929787e-01\n",
      "    7.14725406e-01   4.56556981e-01   3.69529934e-01   5.19540523e-01\n",
      "    2.01002662e-01]\n",
      " [  5.07196497e-01   7.67992533e-01   4.99767462e-01   9.86216267e-01\n",
      "    8.75355054e-01   8.68318234e-01   1.33392746e-01   1.76702122e-01\n",
      "    8.71298898e-02]\n",
      " [  5.37795465e-03   7.51388200e-01   5.63539938e-01   5.63583296e-01\n",
      "    4.90749189e-01   8.79111843e-01   5.88920568e-01   6.70750877e-01\n",
      "    9.93777730e-01]\n",
      " [  3.10227858e-01   1.12905175e-01   8.82355276e-02   1.12847057e-01\n",
      "    6.00749326e-01   3.23936292e-01   9.81036514e-01   6.56336742e-01\n",
      "    2.65701065e-01]\n",
      " [  7.06308914e-01   2.52264584e-01   2.29382175e-01   1.79955313e-01\n",
      "    2.41550199e-01   2.07502869e-01   6.97420095e-01   3.15373912e-01\n",
      "    1.69079224e-02]\n",
      " [  5.04244069e-01   9.52629056e-01   3.33738525e-01   7.34377592e-01\n",
      "    6.27099770e-01   2.23977043e-01   2.39218681e-01   4.43538499e-01\n",
      "    8.96002686e-01]\n",
      " [  3.74699834e-02   6.64625369e-01   5.31167877e-01   2.62973063e-01\n",
      "    2.98450796e-01   3.29963963e-01   8.87616603e-01   8.65981311e-02\n",
      "    9.62179513e-01]]\n"
     ]
    }
   ],
   "source": [
    "propagate(f,nt)"
   ]
  },
  {
   "cell_type": "code",
   "execution_count": 535,
   "metadata": {
    "collapsed": false
   },
   "outputs": [],
   "source": [
    "# Function that iterates diffusion values through number of time steps, could probably be more efficient\n",
    "def propagate(f,nt):\n",
    "    for n in range(0, nt) :\n",
    "        for k in range(0, len(x)): \n",
    "            \n",
    "            if n == 0: # First time step needs some special treatment\n",
    "                f_i = f[n][k] # Stores f at each space step before any propagation\n",
    "                if k == 0:\n",
    "                    f[n][k] = C * ( f[n-1][len(x)-1] - 2*f[n-1][k] + f[n-1][k+1] ) + f_i\n",
    "\n",
    "                elif k == (len(x) - 1):\n",
    "                    f[n][k] = C * ( f[n-1][k-1] - 2*f[n-1][k] + f[n-1][0] ) + f_i\n",
    "\n",
    "                else:\n",
    "                    f[n][k] = C * ( f[n-1][k-1] - 2*f[n-1][k] + f[n-1][k+1] ) + f_i\n",
    "                        \n",
    "            else:\n",
    "                if k == 0:\n",
    "                    f[n][k] = C * ( f[n-1][len(x)-1] - 2*f[n-1][k] + f[n-1][k+1] ) + f[n-1][k]\n",
    "\n",
    "                elif k == (len(x) - 1):\n",
    "                    f[n][k] = C * ( f[n-1][k-1] - 2*f[n-1][k] + f[n-1][0] ) + f[n-1][k]\n",
    "\n",
    "                else:\n",
    "                    f[n][k] = C * ( f[n-1][k-1] - 2*f[n-1][k] + f[n-1][k+1] ) + f[n-1][k]\n",
    "                 \n",
    "                \n",
    "    print f"
    "    return f"
   ]
  }
 ],
 "metadata": {
  "anaconda-cloud": {},
  "kernelspec": {
   "display_name": "Python [Root]",
   "language": "python",
   "name": "Python [Root]"
  },
  "language_info": {
   "codemirror_mode": {
    "name": "ipython",
    "version": 2
   },
   "file_extension": ".py",
   "mimetype": "text/x-python",
   "name": "python",
   "nbconvert_exporter": "python",
   "pygments_lexer": "ipython2",
   "version": "2.7.12"
  }
 },
 "nbformat": 4,
 "nbformat_minor": 0
}
