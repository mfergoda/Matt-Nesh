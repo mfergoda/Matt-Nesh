{
 "cells": [
  {
   "cell_type": "code",
   "execution_count": 374,
   "metadata": {
    "collapsed": true
   },
   "outputs": [],
   "source": [
    "import numpy as np\n",
    "import random as rn"
   ]
  },
  {
   "cell_type": "code",
   "execution_count": 375,
   "metadata": {
    "collapsed": false
   },
   "outputs": [
    {
     "name": "stdout",
     "output_type": "stream",
     "text": [
      "[ 0.     0.125  0.25   0.375  0.5    0.625  0.75   0.875  1.   ]\n"
     ]
    }
   ],
   "source": [
    "x = np.linspace(0,1.0,9); print x"
   ]
  },
  {
   "cell_type": "code",
   "execution_count": 376,
   "metadata": {
    "collapsed": false
   },
   "outputs": [
    {
     "name": "stdout",
     "output_type": "stream",
     "text": [
      "0.125\n"
     ]
    }
   ],
   "source": [
    "dx = x[1]-x[0]; print dx"
   ]
  },
  {
   "cell_type": "code",
   "execution_count": 377,
   "metadata": {
    "collapsed": true
   },
   "outputs": [],
   "source": [
    "D = 1.0"
   ]
  },
  {
   "cell_type": "code",
   "execution_count": 378,
   "metadata": {
    "collapsed": false
   },
   "outputs": [
    {
     "name": "stdout",
     "output_type": "stream",
     "text": [
      "0.00078125\n",
      "0.0078125\n"
     ]
    }
   ],
   "source": [
    "dt = dx**2/2/D / 10; print dt\n",
    "nt = 10 # Number of time steps\n",
    "t = dt*nt; print t"
   ]
  },
  {
   "cell_type": "code",
   "execution_count": 379,
   "metadata": {
    "collapsed": false
   },
   "outputs": [
    {
     "name": "stdout",
     "output_type": "stream",
     "text": [
      "0.05\n"
     ]
    }
   ],
   "source": [
    "C = (dt * D) / (dx**2); print C # For constants in \"propagate\" function "
   ]
  },
  {
   "cell_type": "code",
   "execution_count": 380,
   "metadata": {
    "collapsed": false,
    "scrolled": true
   },
   "outputs": [
    {
     "name": "stdout",
     "output_type": "stream",
     "text": [
      "[[ 0.98702677  0.55752281  0.98598474  0.84158845  0.87565457  0.9018449\n",
      "   0.54425209  0.04449334  0.52590151]\n",
      " [ 0.95187714  0.4681363   0.45977805  0.83893872  0.72567584  0.04643182\n",
      "   0.08902975  0.96735922  0.73672088]\n",
      " [ 0.29684416  0.83574623  0.17804935  0.38488954  0.81487528  0.46587022\n",
      "   0.54159029  0.57337505  0.33802122]\n",
      " [ 0.66193654  0.37787783  0.24638154  0.38374711  0.16820185  0.60273295\n",
      "   0.75455874  0.50765869  0.39915708]\n",
      " [ 0.42694258  0.27845332  0.29857783  0.03863975  0.01012441  0.12355534\n",
      "   0.43296421  0.06319875  0.02888706]\n",
      " [ 0.26711464  0.00136664  0.72509441  0.10052329  0.95420144  0.46614352\n",
      "   0.90494367  0.73807147  0.34427427]\n",
      " [ 0.16181763  0.52764303  0.9510022   0.43861399  0.03598273  0.70470582\n",
      "   0.92895879  0.74042795  0.75094722]\n",
      " [ 0.26323216  0.94130528  0.00963093  0.10831842  0.98278447  0.73051073\n",
      "   0.13855383  0.92094997  0.33364498]\n",
      " [ 0.10567312  0.58399005  0.75617829  0.86165624  0.89916693  0.12310798\n",
      "   0.5422004   0.36346496  0.35860362]\n",
      " [ 0.23038138  0.34158817  0.49165987  0.45972371  0.23323923  0.31969768\n",
      "   0.5359352   0.04421392  0.39101769]\n",
      " [ 0.87035758  0.58654473  0.42392432  0.50946184  0.10307346  0.04054754\n",
      "   0.08718543  0.39690737  0.06074764]]\n"
     ]
    }
   ],
   "source": [
    "# Starting f(t,x) as 2-D array of random numbers; pseudo: f[time][x]; n = 0 row stores initial field\n",
    "\n",
    "f = np.array([[rn.random() for i in range(len(x))] for j in range(int(t/dt)+1)]); print f;"
   ]
  },
  {
   "cell_type": "code",
   "execution_count": 381,
   "metadata": {
    "collapsed": false
   },
   "outputs": [
    {
     "data": {
      "text/plain": [
       "array([[ 0.98702677,  0.55752281,  0.98598474,  0.84158845,  0.87565457,\n",
       "         0.9018449 ,  0.54425209,  0.04449334,  0.52590151],\n",
       "       [ 0.94249531,  0.6004211 ,  0.95734183,  0.85051157,  0.87526078,\n",
       "         0.88265575,  0.53714379,  0.09355168,  0.52488736],\n",
       "       [ 0.9045112 ,  0.63537085,  0.93415428,  0.85709054,  0.87439307,\n",
       "         0.8650104 ,  0.53223979,  0.13729807,  0.52420097],\n",
       "       [ 0.87203867,  0.66376704,  0.91536192,  0.86180885,  0.87305881,\n",
       "         0.848841  ,  0.52913123,  0.1763903 ,  0.52387134],\n",
       "       [ 0.84421672,  0.68676036,  0.90010452,  0.865049  ,  0.87128542,\n",
       "         0.8340664 ,  0.52747967,  0.2114014 ,  0.52390565],\n",
       "       [ 0.82032835,  0.70530039,  0.88768454,  0.8671136 ,  0.86911265,\n",
       "         0.82059802,  0.5270051 ,  0.24283053,  0.524296  ],\n",
       "       [ 0.79977534,  0.720171  ,  0.87753679,  0.8682421 ,  0.86658696,\n",
       "         0.8083441 ,  0.52747601,  0.27111253,  0.52502434],\n",
       "       [ 0.78205757,  0.7320195 ,  0.86920376,  0.86862408,  0.86375758,\n",
       "         0.79721284,  0.52870124,  0.29662629,  0.5260663 ],\n",
       "       [ 0.7667561 ,  0.74138062,  0.86231556,  0.86840974,  0.86067367,\n",
       "         0.7871145 ,  0.53052308,  0.31970204,  0.52739386],\n",
       "       [ 0.75351922,  0.74869614,  0.85657353,  0.86771822,  0.85738251,\n",
       "         0.77796289,  0.5328116 ,  0.34062768,  0.52897738],\n",
       "       [ 0.74205097,  0.75433116,  0.85173689,  0.8666442 ,  0.85392832,\n",
       "         0.7696763 ,  0.53545996,  0.35965437,  0.53078699]])"
      ]
     },
     "execution_count": 381,
     "metadata": {},
     "output_type": "execute_result"
    }
   ],
   "source": [
    "propagate(f,nt)"
   ]
  },
  {
   "cell_type": "code",
   "execution_count": 382,
   "metadata": {
    "collapsed": false
   },
   "outputs": [],
   "source": [
    "# Function that iterates diffusion values through number of time steps\n",
    "def propagate(f, nt):\n",
    "    # nt = len(f) - 1 # not including initial field in number of time steps\n",
    "    # print nt\n",
    "    for n in range(0, nt) :\n",
    "        for k in range(0, len(x)):\n",
    "            f_pre = f[n][k] \n",
    "            if k == 0:\n",
    "                f[n+1][k] = C * ( f[n][len(x)-1] - 2*f_pre + f[n][k+1] ) + f_pre\n",
    "                # print 'hi'\n",
    "\n",
    "            elif k == (len(x) - 1):\n",
    "                f[n+1][k] = C * ( f[n][k-1] - 2*f_pre + f[n][0] ) + f_pre\n",
    "                # print'hello'\n",
    "            else:\n",
    "                f[n+1][k] = C * ( f[n][k-1] - 2*f_pre + f[n][k+1] ) + f_pre\n",
    "                # print 'hey'\n",
    "                \n",
    "    return f"
   ]
  }
 ],
 "metadata": {
  "anaconda-cloud": {},
  "kernelspec": {
   "display_name": "Python [Root]",
   "language": "python",
   "name": "Python [Root]"
  },
  "language_info": {
   "codemirror_mode": {
    "name": "ipython",
    "version": 2
   },
   "file_extension": ".py",
   "mimetype": "text/x-python",
   "name": "python",
   "nbconvert_exporter": "python",
   "pygments_lexer": "ipython2",
   "version": "2.7.12"
  }
 },
 "nbformat": 4,
 "nbformat_minor": 0
}
