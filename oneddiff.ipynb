{
 "cells": [
  {
   "cell_type": "code",
   "execution_count": 1,
   "metadata": {
    "collapsed": false
   },
   "outputs": [],
   "source": [
    "import numpy as np\n",
    "import random as rn\n",
    "import matplotlib.pyplot as plt\n",
    "\n",
    "%matplotlib notebook"
   ]
  },
  {
   "cell_type": "code",
   "execution_count": 2,
   "metadata": {
    "collapsed": false
   },
   "outputs": [
    {
     "name": "stdout",
     "output_type": "stream",
     "text": [
      "[ 0.     0.125  0.25   0.375  0.5    0.625  0.75   0.875  1.   ]\n"
     ]
    }
   ],
   "source": [
    "x = np.linspace(0,1.0,9); print x"
   ]
  },
  {
   "cell_type": "code",
   "execution_count": 3,
   "metadata": {
    "collapsed": false
   },
   "outputs": [
    {
     "name": "stdout",
     "output_type": "stream",
     "text": [
      "0.125\n"
     ]
    }
   ],
   "source": [
    "dx = x[1]-x[0]; print dx"
   ]
  },
  {
   "cell_type": "code",
   "execution_count": 4,
   "metadata": {
    "collapsed": true
   },
   "outputs": [],
   "source": [
    "D = 1.0"
   ]
  },
  {
   "cell_type": "code",
   "execution_count": 5,
   "metadata": {
    "collapsed": false
   },
   "outputs": [
    {
     "name": "stdout",
     "output_type": "stream",
     "text": [
      "0.00078125\n",
      "0.0078125\n"
     ]
    }
   ],
   "source": [
    "dt = dx**2/2/D / 10; print dt\n",
    "nt = 10 # Number of time steps\n",
    "t = dt*nt; print t"
   ]
  },
  {
   "cell_type": "code",
   "execution_count": 6,
   "metadata": {
    "collapsed": false
   },
   "outputs": [
    {
     "name": "stdout",
     "output_type": "stream",
     "text": [
      "0.05\n"
     ]
    }
   ],
   "source": [
    "C = (dt * D) / (dx**2); print C # For constants in \"propagate\" function "
   ]
  },
  {
   "cell_type": "code",
   "execution_count": 7,
   "metadata": {
    "collapsed": false,
    "scrolled": true
   },
   "outputs": [
    {
     "name": "stdout",
     "output_type": "stream",
     "text": [
      "[[ 0.11239017  0.32452151  0.67646914  0.18101396  0.24009443  0.56936516\n",
      "   0.66243415  0.09064792  0.971276  ]\n",
      " [ 0.29953574  0.1286994   0.34546072  0.26272097  0.55910234  0.04263846\n",
      "   0.57971524  0.57840238  0.60873528]\n",
      " [ 0.4051839   0.49666744  0.11379616  0.79405547  0.73533403  0.76549383\n",
      "   0.98283031  0.61750955  0.61989529]\n",
      " [ 0.02477729  0.75079383  0.29270558  0.4869626   0.63845762  0.86571642\n",
      "   0.2345762   0.85649484  0.33124474]\n",
      " [ 0.2535841   0.8892884   0.95523752  0.34678623  0.26591782  0.18589086\n",
      "   0.99612048  0.72450414  0.49928763]\n",
      " [ 0.32668218  0.53286929  0.2264468   0.87218764  0.77779399  0.00357677\n",
      "   0.8313262   0.05384604  0.74823081]\n",
      " [ 0.28881348  0.22830402  0.19767298  0.52035051  0.58812312  0.98439447\n",
      "   0.51193462  0.31508856  0.01795334]\n",
      " [ 0.75509231  0.6561742   0.38473432  0.59920242  0.71356508  0.52461621\n",
      "   0.49802591  0.11118783  0.76741579]\n",
      " [ 0.91195354  0.90706653  0.17555384  0.08210072  0.650088    0.92104087\n",
      "   0.74960672  0.2280198   0.35055732]\n",
      " [ 0.09452003  0.28968719  0.57659823  0.47181505  0.64457625  0.31927428\n",
      "   0.89187033  0.63480904  0.35389283]\n",
      " [ 0.43032041  0.00846535  0.41605384  0.41609692  0.36378857  0.47670667\n",
      "   0.66717166  0.13125496  0.68076002]]\n"
     ]
    }
   ],
   "source": [
    "# Starting f(t,x) as 2-D array of random numbers; pseudo: f[time][x]; n = 0 row stores initial field\n",
    "\n",
    "f = np.array([[rn.random() for i in range(len(x))] for j in range(int(t/dt)+1)]); print f; # Adding a time row to include intial field"
   ]
  },
  {
   "cell_type": "code",
   "execution_count": null,
   "metadata": {
    "collapsed": false
   },
   "outputs": [],
   "source": [
    "# Function that iterates diffusion values through number of time steps\n",
    "def propagate(f, nt):\n",
    "    # nt = len(f) - 1 # not including initial field in number of time steps\n",
    "    # print nt\n",
    "    for n in range(0, nt) :\n",
    "        for k in range(0, len(x)):\n",
    "            f_pre = f[n][k] \n",
    "            if k == 0:\n",
    "                f[n+1][k] = C * ( f[n][len(x)-1] - 2*f_pre + f[n][k+1] ) + f_pre\n",
    "                # print 'hi'\n",
    "\n",
    "            elif k == (len(x) - 1):\n",
    "                f[n+1][k] = C * ( f[n][k-1] - 2*f_pre + f[n][0] ) + f_pre\n",
    "                # print'hello'\n",
    "            else:\n",
    "                f[n+1][k] = C * ( f[n][k-1] - 2*f_pre + f[n][k+1] ) + f_pre\n",
    "                # print 'hey'\n",
    "                \n",
    "    return f"
   ]
  },
  {
   "cell_type": "code",
   "execution_count": 8,
   "metadata": {
    "collapsed": false
   },
   "outputs": [
    {
     "ename": "NameError",
     "evalue": "name 'propagate' is not defined",
     "output_type": "error",
     "traceback": [
      "\u001b[0;31m---------------------------------------------------------------------------\u001b[0m",
      "\u001b[0;31mNameError\u001b[0m                                 Traceback (most recent call last)",
      "\u001b[0;32m<ipython-input-8-b2e182874c93>\u001b[0m in \u001b[0;36m<module>\u001b[0;34m()\u001b[0m\n\u001b[0;32m----> 1\u001b[0;31m \u001b[0mpropagate\u001b[0m\u001b[0;34m(\u001b[0m\u001b[0mf\u001b[0m\u001b[0;34m,\u001b[0m\u001b[0mnt\u001b[0m\u001b[0;34m)\u001b[0m\u001b[0;34m\u001b[0m\u001b[0m\n\u001b[0m",
      "\u001b[0;31mNameError\u001b[0m: name 'propagate' is not defined"
     ]
    }
   ],
   "source": [
    "propagate(f,nt)"
   ]
  },
  {
   "cell_type": "code",
   "execution_count": null,
   "metadata": {
    "collapsed": false
   },
   "outputs": [],
   "source": [
    "plt.plot(x,f[0])\n",
    "plt.plot(x,f[-1])"
   ]
  }
 ],
 "metadata": {
  "anaconda-cloud": {},
  "kernelspec": {
   "display_name": "Python 2",
   "language": "python",
   "name": "python2"
  },
  "language_info": {
   "codemirror_mode": {
    "name": "ipython",
    "version": 2
   },
   "file_extension": ".py",
   "mimetype": "text/x-python",
   "name": "python",
   "nbconvert_exporter": "python",
   "pygments_lexer": "ipython2",
   "version": "2.7.11"
  }
 },
 "nbformat": 4,
 "nbformat_minor": 0
}
